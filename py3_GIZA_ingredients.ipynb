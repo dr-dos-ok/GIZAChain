{
 "cells": [
  {
   "cell_type": "code",
   "execution_count": 43,
   "metadata": {},
   "outputs": [
    {
     "name": "stdout",
     "output_type": "stream",
     "text": [
      "Collecting pysoa\n",
      "  Downloading https://files.pythonhosted.org/packages/32/95/cbeba418c9f9886faf7e89c5084465fda2e6afaf829ab2ae3c96ecd15916/pysoa-0.56.0-py27.py35.py36-none-any.whl (159kB)\n",
      "Collecting conformity>=1.17.2,~=1.17 (from pysoa)\n",
      "  Downloading https://files.pythonhosted.org/packages/2d/ba/169a3c7efed12e3d1ac0a4f083d42b185e4cf5d5c8629422cb4f4561f2ae/conformity-1.17.2-py2.py3-none-any.whl\n",
      "Requirement already satisfied: six~=1.10 in c:\\anaconda2\\envs\\rstudio\\lib\\site-packages (from pysoa) (1.11.0)\n",
      "Collecting currint~=1.6 (from pysoa)\n",
      "  Downloading https://files.pythonhosted.org/packages/c9/3e/9e6e25c65820a0c88ca062ce113e742beae3e0334fb9fb3eb8edfce281e2/currint-1.6.1-py2.py3-none-any.whl\n",
      "Collecting msgpack-python>=0.5.2,~=0.5 (from pysoa)\n",
      "  Downloading https://files.pythonhosted.org/packages/8a/20/6eca772d1a5830336f84aca1d8198e5a3f4715cd1c7fc36d3cc7f7185091/msgpack-python-0.5.6.tar.gz (138kB)\n",
      "Collecting redis~=2.10 (from pysoa)\n",
      "  Downloading https://files.pythonhosted.org/packages/3b/f6/7a76333cf0b9251ecf49efff635015171843d9b977e4ffcf59f9c4428052/redis-2.10.6-py2.py3-none-any.whl (64kB)\n",
      "Requirement already satisfied: attrs<19,>=17.4 in c:\\anaconda2\\envs\\rstudio\\lib\\site-packages (from pysoa) (18.2.0)\n",
      "Building wheels for collected packages: msgpack-python\n",
      "  Running setup.py bdist_wheel for msgpack-python: started\n",
      "  Running setup.py bdist_wheel for msgpack-python: finished with status 'done'\n",
      "  Stored in directory: C:\\Users\\mans\\AppData\\Local\\pip\\Cache\\wheels\\d5\\de\\86\\7fa56fda12511be47ea0808f3502bc879df4e63ab168ec0406\n",
      "Successfully built msgpack-python\n",
      "Installing collected packages: conformity, currint, msgpack-python, redis, pysoa\n",
      "Successfully installed conformity-1.17.2 currint-1.6.1 msgpack-python-0.5.6 pysoa-0.56.0 redis-2.10.6\n"
     ]
    }
   ],
   "source": [
    "!pip install pysoa"
   ]
  },
  {
   "cell_type": "code",
   "execution_count": null,
   "metadata": {},
   "outputs": [],
   "source": [
    "# for examples:   https://github.com/eventbrite/example_service"
   ]
  },
  {
   "cell_type": "code",
   "execution_count": 49,
   "metadata": {},
   "outputs": [
    {
     "name": "stdout",
     "output_type": "stream",
     "text": [
      "Collecting ontology-python-sdk\n",
      "  Downloading https://files.pythonhosted.org/packages/f1/46/1c278289da72c52a6cf6860baad11e09ca9fdaa3e57217ca75f6ef8b8c2a/ontology_python_sdk-0.1.19-py3-none-any.whl (78kB)\n",
      "Requirement already satisfied: cryptography in c:\\anaconda2\\envs\\rstudio\\lib\\site-packages (from ontology-python-sdk) (2.2.2)\n",
      "Collecting base58 (from ontology-python-sdk)\n",
      "  Downloading https://files.pythonhosted.org/packages/a1/3e/422246b9d5991ce4920c4f2fa574a8bad7e81e70727876cb4e2d8bbd9591/base58-1.0.2-py3-none-any.whl\n",
      "Collecting pycryptodomex (from ontology-python-sdk)\n",
      "  Downloading https://files.pythonhosted.org/packages/14/46/452a2f566ab5d6d2af282c3761cf1e418400887cdc9075a08e57f51f0a7e/pycryptodomex-3.7.2-cp36-cp36m-win32.whl (8.0MB)\n",
      "Requirement already satisfied: requests in c:\\anaconda2\\envs\\rstudio\\lib\\site-packages (from ontology-python-sdk) (2.13.0)\n",
      "Requirement already satisfied: ecdsa in c:\\anaconda2\\envs\\rstudio\\lib\\site-packages (from ontology-python-sdk) (0.13)\n",
      "Requirement already satisfied: idna>=2.1 in c:\\anaconda2\\envs\\rstudio\\lib\\site-packages (from cryptography->ontology-python-sdk) (2.6)\n",
      "Requirement already satisfied: asn1crypto>=0.21.0 in c:\\anaconda2\\envs\\rstudio\\lib\\site-packages (from cryptography->ontology-python-sdk) (0.24.0)\n",
      "Requirement already satisfied: six>=1.4.1 in c:\\anaconda2\\envs\\rstudio\\lib\\site-packages (from cryptography->ontology-python-sdk) (1.11.0)\n",
      "Requirement already satisfied: cffi>=1.7 in c:\\anaconda2\\envs\\rstudio\\lib\\site-packages (from cryptography->ontology-python-sdk) (1.11.5)\n",
      "Requirement already satisfied: pycparser in c:\\anaconda2\\envs\\rstudio\\lib\\site-packages (from cffi>=1.7->cryptography->ontology-python-sdk) (2.18)\n",
      "Installing collected packages: base58, pycryptodomex, ontology-python-sdk\n",
      "Successfully installed base58-1.0.2 ontology-python-sdk-0.1.19 pycryptodomex-3.7.2\n"
     ]
    }
   ],
   "source": [
    "!pip install ontology-python-sdk"
   ]
  },
  {
   "cell_type": "code",
   "execution_count": 56,
   "metadata": {},
   "outputs": [
    {
     "data": {
      "text/plain": [
       "'KyyZpJYXRfW8CXxH2B6FRq5AJsyTH7PjPACgBht4xRjstz4mxkeJ'"
      ]
     },
     "execution_count": 56,
     "metadata": {},
     "output_type": "execute_result"
    }
   ],
   "source": [
    "## network\n",
    "#from ontology.ont_sdk import OntologySdk\n",
    "#rpc_address = 'http://polaris3.ont.io:20336'\n",
    "#sdk = OntologySdk()\n",
    "#sdk.rpc.set_address(rpc_address)\n",
    "\n",
    "\n",
    "#from ontology.wallet.account import AccountData\n",
    "#wallet = WalletData()\n",
    "#b58_address = 'AKck7c1ySGr63UinVcMcyuoZD4nXbMk7Sw'\n",
    "#acct = AccountData(b58_address)\n",
    "#wallet.add_account(acct)\n",
    "\n",
    "\n",
    "from ontology.account.account import Account\n",
    "from ontology.crypto.signature_scheme import SignatureScheme\n",
    "\n",
    "private_key = '523c5fcf74823831756f0bcb3634234f10b3beb1c05595058534577752ad2d9f'\n",
    "account = Account(private_key, SignatureScheme.SHA256withECDSA)\n",
    "wif = b'KyyZpJYXRfW8CXxH2B6FRq5AJsyTH7PjPACgBht4xRjstz4mxkeJ'\n",
    "wif = account.export_wif()\n",
    "wif"
   ]
  },
  {
   "cell_type": "code",
   "execution_count": 1,
   "metadata": {},
   "outputs": [
    {
     "name": "stdout",
     "output_type": "stream",
     "text": [
      "Collecting django-govuk-forms\n",
      "  Downloading https://files.pythonhosted.org/packages/16/34/cd75a014d072f67e1c806086c45eb523f62d0738dfd5b6e784018b5076f7/django_govuk_forms-0.7-py3-none-any.whl\n",
      "Requirement already satisfied: django>=1.11 in c:\\anaconda2\\envs\\rstudio\\lib\\site-packages (from django-govuk-forms) (2.1.4)\n",
      "Requirement already satisfied: pytz in c:\\anaconda2\\envs\\rstudio\\lib\\site-packages (from django>=1.11->django-govuk-forms) (2018.3)\n",
      "Installing collected packages: django-govuk-forms\n",
      "Successfully installed django-govuk-forms-0.7\n"
     ]
    }
   ],
   "source": [
    "!pip install django-govuk-forms"
   ]
  },
  {
   "cell_type": "code",
   "execution_count": 2,
   "metadata": {},
   "outputs": [
    {
     "name": "stdout",
     "output_type": "stream",
     "text": [
      "Collecting django-gov\n",
      "  Downloading https://files.pythonhosted.org/packages/d3/88/3ed3a28eeb2a87c141a3321fc127e7c71a0368a8941f39049461d11b1c13/django-gov-0.2.1.tar.gz (468kB)\n",
      "Requirement already satisfied: Django>=1.10.2 in c:\\anaconda2\\envs\\rstudio\\lib\\site-packages (from django-gov) (2.1.4)\n",
      "Collecting django-cors-headers>=1.2.2 (from django-gov)\n",
      "  Downloading https://files.pythonhosted.org/packages/cc/7e/83ba784ad2b95317bbbed915f0888d7d1cd8dc3d2e4b8ddec8fbc4c3e800/django_cors_headers-2.4.0-py2.py3-none-any.whl\n",
      "Collecting django-extended-choices>=1.0.7 (from django-gov)\n",
      "  Downloading https://files.pythonhosted.org/packages/7d/79/99aa992f2ed6b4653b01c8789310a570b2594c681a65d958623f3b67f25a/django_extended_choices-1.3-py2.py3-none-any.whl\n",
      "Collecting django-filter>=0.15.2 (from django-gov)\n",
      "  Downloading https://files.pythonhosted.org/packages/6a/8b/8517167a0adc45ce94d0873efb9487dd4cdeff7e10f96e837ad3d58f5837/django_filter-2.0.0-py3-none-any.whl (69kB)\n",
      "Collecting django-moj-irat>=0.3 (from django-gov)\n",
      "  Downloading https://files.pythonhosted.org/packages/5e/46/243d1039e0620d384b14bfb36daec90c238fe54b09f2be8625b16a1b859c/django_moj_irat-0.4-py3-none-any.whl\n",
      "Collecting django-rest-swagger>=2.0.7 (from django-gov)\n",
      "  Downloading https://files.pythonhosted.org/packages/26/b0/1df8743c3150630c2ce1f98f9f0f451038e43fb58a68d5da7877754f37b7/django_rest_swagger-2.2.0-py2.py3-none-any.whl (495kB)\n",
      "Collecting djangorestframework>=3.5.0 (from django-gov)\n",
      "  Downloading https://files.pythonhosted.org/packages/99/0b/d37a5a96c5d301e23adcabcc2f3fa659fb34e6308590f95ebb50cdbe98a1/djangorestframework-3.9.0-py2.py3-none-any.whl (924kB)\n",
      "Collecting flake8>=3.2.0 (from django-gov)\n",
      "  Downloading https://files.pythonhosted.org/packages/34/a6/49e2849a0e5464e1b5d621f63bc8453066f0f367bb3b744a33fca0bc1ddd/flake8-3.6.0-py2.py3-none-any.whl (68kB)\n",
      "Collecting openpyxl>=2.4.0 (from django-gov)\n",
      "  Downloading https://files.pythonhosted.org/packages/08/8a/509eb6f58672288da9a5884e1cc7e90819bc8dbef501161c4b40a6a4e46b/openpyxl-2.5.12.tar.gz (173kB)\n",
      "Collecting PyYAML>=3.12 (from django-gov)\n",
      "  Downloading https://files.pythonhosted.org/packages/fb/51/0c49c6caafe8d9a27ad9b0ca9f91adda5a5072b9efbbe7585fb97a4c71c4/PyYAML-3.13-cp36-cp36m-win32.whl (188kB)\n",
      "Requirement already satisfied: requests>=2.11.1 in c:\\anaconda2\\envs\\rstudio\\lib\\site-packages (from django-gov) (2.18.4)\n",
      "Requirement already satisfied: pytz in c:\\anaconda2\\envs\\rstudio\\lib\\site-packages (from Django>=1.10.2->django-gov) (2018.3)\n",
      "Collecting future (from django-extended-choices>=1.0.7->django-gov)\n",
      "  Downloading https://files.pythonhosted.org/packages/90/52/e20466b85000a181e1e144fd8305caf2cf475e2f9674e797b222f8105f5f/future-0.17.1.tar.gz (829kB)\n",
      "Collecting simplejson (from django-rest-swagger>=2.0.7->django-gov)\n",
      "  Downloading https://files.pythonhosted.org/packages/e3/24/c35fb1c1c315fc0fffe61ea00d3f88e85469004713dab488dee4f35b0aff/simplejson-3.16.0.tar.gz (81kB)\n",
      "Collecting coreapi>=2.3.0 (from django-rest-swagger>=2.0.7->django-gov)\n",
      "  Downloading https://files.pythonhosted.org/packages/fc/3a/9dedaad22962770edd334222f2b3c3e7ad5e1c8cab1d6a7992c30329e2e5/coreapi-2.3.3-py2.py3-none-any.whl\n",
      "Collecting openapi-codec>=1.3.1 (from django-rest-swagger>=2.0.7->django-gov)\n",
      "  Downloading https://files.pythonhosted.org/packages/78/e5/e0b5aba60c645dde952bc8a9df1f2b0bef27302908839b0a29284c9245d4/openapi-codec-1.3.2.tar.gz\n",
      "Collecting mccabe<0.7.0,>=0.6.0 (from flake8>=3.2.0->django-gov)\n",
      "  Downloading https://files.pythonhosted.org/packages/87/89/479dc97e18549e21354893e4ee4ef36db1d237534982482c3681ee6e7b57/mccabe-0.6.1-py2.py3-none-any.whl\n",
      "Collecting pycodestyle<2.5.0,>=2.4.0 (from flake8>=3.2.0->django-gov)\n",
      "  Downloading https://files.pythonhosted.org/packages/e5/c6/ce130213489969aa58610042dff1d908c25c731c9575af6935c2dfad03aa/pycodestyle-2.4.0-py2.py3-none-any.whl (62kB)\n",
      "Requirement already satisfied: setuptools>=30 in c:\\anaconda2\\envs\\rstudio\\lib\\site-packages (from flake8>=3.2.0->django-gov) (39.0.1)\n",
      "Collecting pyflakes<2.1.0,>=2.0.0 (from flake8>=3.2.0->django-gov)\n",
      "  Downloading https://files.pythonhosted.org/packages/44/98/af7a72c9a543b1487d92813c648cb9b9adfbc96faef5455d60f4439aa99b/pyflakes-2.0.0-py2.py3-none-any.whl (53kB)\n",
      "Collecting jdcal (from openpyxl>=2.4.0->django-gov)\n",
      "  Downloading https://files.pythonhosted.org/packages/a0/38/dcf83532480f25284f3ef13f8ed63e03c58a65c9d3ba2a6a894ed9497207/jdcal-1.4-py2.py3-none-any.whl\n",
      "Collecting et_xmlfile (from openpyxl>=2.4.0->django-gov)\n",
      "  Downloading https://files.pythonhosted.org/packages/22/28/a99c42aea746e18382ad9fb36f64c1c1f04216f41797f2f0fa567da11388/et_xmlfile-1.0.1.tar.gz\n",
      "Requirement already satisfied: chardet<3.1.0,>=3.0.2 in c:\\anaconda2\\envs\\rstudio\\lib\\site-packages (from requests>=2.11.1->django-gov) (3.0.4)\n",
      "Requirement already satisfied: idna<2.7,>=2.5 in c:\\anaconda2\\envs\\rstudio\\lib\\site-packages (from requests>=2.11.1->django-gov) (2.6)\n",
      "Requirement already satisfied: urllib3<1.23,>=1.21.1 in c:\\anaconda2\\envs\\rstudio\\lib\\site-packages (from requests>=2.11.1->django-gov) (1.22)\n",
      "Requirement already satisfied: certifi>=2017.4.17 in c:\\anaconda2\\envs\\rstudio\\lib\\site-packages (from requests>=2.11.1->django-gov) (2018.1.18)\n",
      "Collecting uritemplate (from coreapi>=2.3.0->django-rest-swagger>=2.0.7->django-gov)\n",
      "  Downloading https://files.pythonhosted.org/packages/e5/7d/9d5a640c4f8bf2c8b1afc015e9a9d8de32e13c9016dcc4b0ec03481fb396/uritemplate-3.0.0-py2.py3-none-any.whl\n",
      "Collecting itypes (from coreapi>=2.3.0->django-rest-swagger>=2.0.7->django-gov)\n",
      "  Downloading https://files.pythonhosted.org/packages/d3/24/5e511590f95582efe64b8ad2f6dadd85c5563c9dcf40171ea5a70adbf5a9/itypes-1.1.0.tar.gz\n",
      "Collecting coreschema (from coreapi>=2.3.0->django-rest-swagger>=2.0.7->django-gov)\n",
      "  Downloading https://files.pythonhosted.org/packages/93/08/1d105a70104e078718421e6c555b8b293259e7fc92f7e9a04869947f198f/coreschema-0.0.4.tar.gz\n",
      "Requirement already satisfied: jinja2 in c:\\anaconda2\\envs\\rstudio\\lib\\site-packages (from coreschema->coreapi>=2.3.0->django-rest-swagger>=2.0.7->django-gov) (2.10)\n",
      "Requirement already satisfied: MarkupSafe>=0.23 in c:\\anaconda2\\envs\\rstudio\\lib\\site-packages (from jinja2->coreschema->coreapi>=2.3.0->django-rest-swagger>=2.0.7->django-gov) (1.0)\n",
      "Building wheels for collected packages: django-gov, openpyxl, future, simplejson, openapi-codec, et-xmlfile, itypes, coreschema\n",
      "  Running setup.py bdist_wheel for django-gov: started\n",
      "  Running setup.py bdist_wheel for django-gov: finished with status 'done'\n",
      "  Stored in directory: C:\\Users\\mans\\AppData\\Local\\pip\\Cache\\wheels\\02\\15\\af\\88cdc80e13c3fc383ffb2287a3f150ad1f624642fcdbf40e7b\n",
      "  Running setup.py bdist_wheel for openpyxl: started\n",
      "  Running setup.py bdist_wheel for openpyxl: finished with status 'done'\n",
      "  Stored in directory: C:\\Users\\mans\\AppData\\Local\\pip\\Cache\\wheels\\95\\b0\\38\\e5d13093b588f87177df648c06d07d4b7221f2c17d544cde4c\n",
      "  Running setup.py bdist_wheel for future: started\n",
      "  Running setup.py bdist_wheel for future: finished with status 'done'\n",
      "  Stored in directory: C:\\Users\\mans\\AppData\\Local\\pip\\Cache\\wheels\\0c\\61\\d2\\d6b7317325828fbb39ee6ad559dbe4664d0896da4721bf379e\n",
      "  Running setup.py bdist_wheel for simplejson: started\n",
      "  Running setup.py bdist_wheel for simplejson: finished with status 'done'\n",
      "  Stored in directory: C:\\Users\\mans\\AppData\\Local\\pip\\Cache\\wheels\\5d\\1a\\1e\\0350bb3df3e74215cd91325344cc86c2c691f5306eb4d22c77\n",
      "  Running setup.py bdist_wheel for openapi-codec: started\n",
      "  Running setup.py bdist_wheel for openapi-codec: finished with status 'done'\n",
      "  Stored in directory: C:\\Users\\mans\\AppData\\Local\\pip\\Cache\\wheels\\6a\\16\\01\\190a15aa7834cadccb6fcc9be4e9843fe7c20260157c799ede\n",
      "  Running setup.py bdist_wheel for et-xmlfile: started\n",
      "  Running setup.py bdist_wheel for et-xmlfile: finished with status 'done'\n",
      "  Stored in directory: C:\\Users\\mans\\AppData\\Local\\pip\\Cache\\wheels\\2a\\77\\35\\0da0965a057698121fc7d8c5a7a9955cdbfb3cc4e2423cad39\n",
      "  Running setup.py bdist_wheel for itypes: started\n",
      "  Running setup.py bdist_wheel for itypes: finished with status 'done'\n",
      "  Stored in directory: C:\\Users\\mans\\AppData\\Local\\pip\\Cache\\wheels\\7b\\52\\af\\4e27324812e7ab7bbbc30f748d317f3739477562325cb4c723\n",
      "  Running setup.py bdist_wheel for coreschema: started\n",
      "  Running setup.py bdist_wheel for coreschema: finished with status 'done'\n",
      "  Stored in directory: C:\\Users\\mans\\AppData\\Local\\pip\\Cache\\wheels\\10\\7b\\ba\\04fcd6b33e6123ca11a5f5ab56decb1a2d87ced028377a1377\n",
      "Successfully built django-gov openpyxl future simplejson openapi-codec et-xmlfile itypes coreschema\n",
      "Installing collected packages: django-cors-headers, future, django-extended-choices, django-filter, django-moj-irat, djangorestframework, simplejson, uritemplate, itypes, coreschema, coreapi, openapi-codec, django-rest-swagger, mccabe, pycodestyle, pyflakes, flake8, jdcal, et-xmlfile, openpyxl, PyYAML, django-gov\n",
      "Successfully installed PyYAML-3.13 coreapi-2.3.3 coreschema-0.0.4 django-cors-headers-2.4.0 django-extended-choices-1.3 django-filter-2.0.0 django-gov-0.2.1 django-moj-irat-0.4 django-rest-swagger-2.2.0 djangorestframework-3.9.0 et-xmlfile-1.0.1 flake8-3.6.0 future-0.17.1 itypes-1.1.0 jdcal-1.4 mccabe-0.6.1 openapi-codec-1.3.2 openpyxl-2.5.12 pycodestyle-2.4.0 pyflakes-2.0.0 simplejson-3.16.0 uritemplate-3.0.0\n"
     ]
    }
   ],
   "source": [
    "! pip install django-gov"
   ]
  },
  {
   "cell_type": "code",
   "execution_count": 3,
   "metadata": {},
   "outputs": [
    {
     "name": "stdout",
     "output_type": "stream",
     "text": [
      "Collecting quantgov\n",
      "  Downloading https://files.pythonhosted.org/packages/5c/3a/c8e90a3d1259249132663abb8e059893fca1163f953b5d4fd3895deae235/quantgov-0.5.0.tar.gz\n",
      "Requirement already satisfied: decorator in c:\\anaconda2\\envs\\rstudio\\lib\\site-packages (from quantgov) (4.2.1)\n",
      "Collecting joblib (from quantgov)\n",
      "  Downloading https://files.pythonhosted.org/packages/0d/1b/995167f6c66848d4eb7eabc386aebe07a1571b397629b2eac3b7bebdc343/joblib-0.13.0-py2.py3-none-any.whl (276kB)\n",
      "Collecting pandas (from quantgov)\n",
      "  Downloading https://files.pythonhosted.org/packages/a1/56/6abb1d552b37f58cfcc1cf54089af486b3d4825c38691809a93452527ba1/pandas-0.23.4-cp36-cp36m-win32.whl (6.6MB)\n",
      "Requirement already satisfied: requests in c:\\anaconda2\\envs\\rstudio\\lib\\site-packages (from quantgov) (2.18.4)\n",
      "Collecting scikit-learn (from quantgov)\n",
      "  Downloading https://files.pythonhosted.org/packages/ee/c8/c89ebdc0d7dbba6e6fd222daabd257da3c28a967dd7c352d4272b2e1cef6/scikit_learn-0.20.2-cp36-cp36m-win32.whl (4.3MB)\n",
      "Collecting scipy (from quantgov)\n",
      "  Downloading https://files.pythonhosted.org/packages/18/d1/9ed926284d97c12cc4c07b81abce886dd4430c52b8323defc365ed04026e/scipy-1.2.0-cp36-cp36m-win32.whl (26.9MB)\n",
      "Collecting numpy>=1.9.0 (from pandas->quantgov)\n",
      "  Downloading https://files.pythonhosted.org/packages/c0/fa/231e17904bb9b2115504a583592834870c90088664f296dea6f953578488/numpy-1.15.4-cp36-none-win32.whl (9.9MB)\n",
      "Requirement already satisfied: python-dateutil>=2.5.0 in c:\\anaconda2\\envs\\rstudio\\lib\\site-packages (from pandas->quantgov) (2.7.2)\n",
      "Requirement already satisfied: pytz>=2011k in c:\\anaconda2\\envs\\rstudio\\lib\\site-packages (from pandas->quantgov) (2018.3)\n",
      "Requirement already satisfied: chardet<3.1.0,>=3.0.2 in c:\\anaconda2\\envs\\rstudio\\lib\\site-packages (from requests->quantgov) (3.0.4)\n",
      "Requirement already satisfied: idna<2.7,>=2.5 in c:\\anaconda2\\envs\\rstudio\\lib\\site-packages (from requests->quantgov) (2.6)\n",
      "Requirement already satisfied: urllib3<1.23,>=1.21.1 in c:\\anaconda2\\envs\\rstudio\\lib\\site-packages (from requests->quantgov) (1.22)\n",
      "Requirement already satisfied: certifi>=2017.4.17 in c:\\anaconda2\\envs\\rstudio\\lib\\site-packages (from requests->quantgov) (2018.1.18)\n",
      "Requirement already satisfied: six>=1.5 in c:\\anaconda2\\envs\\rstudio\\lib\\site-packages (from python-dateutil>=2.5.0->pandas->quantgov) (1.11.0)\n",
      "Building wheels for collected packages: quantgov\n",
      "  Running setup.py bdist_wheel for quantgov: started\n",
      "  Running setup.py bdist_wheel for quantgov: finished with status 'done'\n",
      "  Stored in directory: C:\\Users\\mans\\AppData\\Local\\pip\\Cache\\wheels\\b3\\79\\5c\\f5bdd73f0f7a2acc9946f365a5c64e8fc91a291a1ff9574d16\n",
      "Successfully built quantgov\n",
      "Installing collected packages: joblib, numpy, pandas, scipy, scikit-learn, quantgov\n",
      "Successfully installed joblib-0.13.0 numpy-1.15.4 pandas-0.23.4 quantgov-0.5.0 scikit-learn-0.20.2 scipy-1.2.0\n"
     ]
    }
   ],
   "source": [
    "! pip install quantgov"
   ]
  },
  {
   "cell_type": "code",
   "execution_count": 9,
   "metadata": {},
   "outputs": [],
   "source": [
    "#import quantgov\n",
    "\n",
    "#from pathlib import Path\n",
    "\n",
    "#driver = quantgov.corpus.RecursiveDirectoryCorpusDriver(\n",
    "#    directory=Path(__file__).parent.joinpath('data', 'clean'),\n",
    "#    index_labels=('section', 'docno')\n",
    "#)\n",
    "\n",
    "\n",
    "! quantgov start estimator estimator-fr-sections\n"
   ]
  },
  {
   "cell_type": "markdown",
   "metadata": {},
   "source": [
    " # Future work"
   ]
  },
  {
   "cell_type": "code",
   "execution_count": 44,
   "metadata": {},
   "outputs": [
    {
     "name": "stdout",
     "output_type": "stream",
     "text": [
      "Collecting onem2m\n",
      "  Downloading https://files.pythonhosted.org/packages/31/c9/780badc048fa081b88e62d3f129a8848e6b8214fcb1673cb43d595c6d8d1/onem2m-0.3.3-py3-none-any.whl\n",
      "Installing collected packages: onem2m\n",
      "Successfully installed onem2m-0.3.3\n"
     ]
    }
   ],
   "source": [
    "!pip install onem2m"
   ]
  },
  {
   "cell_type": "code",
   "execution_count": 61,
   "metadata": {},
   "outputs": [],
   "source": [
    "from onem2m import AE, Constant\n",
    "\n",
    "\n",
    "arg = {Constant.CONST.ADN.ID:'S111115', Constant.CONST.ADN.NAME:'S111115', Constant.CONST.CHECK.URI:\"S111115\",\n",
    "Constant.CONST.SENSOR.ID:'111111', Constant.CONST.SENSOR.NAME:'Temp', Constant.CONST.SENSOR.HISTORY:11}\n",
    "arg1 = {Constant.CONST.ADN.ID:'S111115', Constant.CONST.SENSOR.ID:'111111',Constant.CONST.SENSOR.NAME:'Temp',\n",
    "Constant.CONST.SENSING.NAME:'R1',Constant.CONST.SENSING.VALUE:32}\n",
    "arg2 = {Constant.CONST.ADN.ID:'S111115',Constant.CONST.ID:'111111'}\n",
    "\n",
    "#cli = AE.ClientLib()\n",
    "#print(cli.checkDuplicated(arg))\n",
    "#print(cli.createADN(arg))\n",
    "#print(cli.registrySensor(arg))\n",
    "#print(cli.sendSensingReport(arg1))\n",
    "#print(cli.getLastValue(arg2))\n",
    "#print(cli.getValues(arg2))\n",
    "#print(cli.getADNAll())"
   ]
  },
  {
   "cell_type": "markdown",
   "metadata": {},
   "source": [
    "oneM2M Application Entity Node Client Library Python 3.6 tested\n",
    "\n",
    "oneM2M.conf [DEFAULT] oneM2M_scl_base_url=http://13.125.35.229:8080/~/paas-in-13-125-35-229/base oneM2M_scl_base_origin=paas-in-13-125-35-229 oneM2M_poa_url=\n",
    "\n"
   ]
  }
 ],
 "metadata": {
  "kernelspec": {
   "display_name": "Python 3",
   "language": "python",
   "name": "python3"
  },
  "language_info": {
   "codemirror_mode": {
    "name": "ipython",
    "version": 3
   },
   "file_extension": ".py",
   "mimetype": "text/x-python",
   "name": "python",
   "nbconvert_exporter": "python",
   "pygments_lexer": "ipython3",
   "version": "3.6.5"
  }
 },
 "nbformat": 4,
 "nbformat_minor": 2
}
