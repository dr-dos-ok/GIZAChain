{
 "cells": [
  {
   "cell_type": "markdown",
   "metadata": {},
   "source": [
    "# Installation:\n"
   ]
  },
  {
   "cell_type": "code",
   "execution_count": 1,
   "metadata": {},
   "outputs": [
    {
     "name": "stdout",
     "output_type": "stream",
     "text": [
      "Collecting easy_blockchain\n",
      "  Downloading https://files.pythonhosted.org/packages/f5/1c/46ce3cf68938f30f08d5e196781a0afe22b8be581caaeb85cb9d2be9e58f/easy_blockchain-0.1.6-py3-none-any.whl\n",
      "Requirement already satisfied: requests in c:\\anaconda2\\envs\\rstudio\\lib\\site-packages (from easy_blockchain)\n",
      "Collecting flask (from easy_blockchain)\n",
      "  Downloading https://files.pythonhosted.org/packages/7f/e7/08578774ed4536d3242b14dacb4696386634607af824ea997202cd0edb4b/Flask-1.0.2-py2.py3-none-any.whl (91kB)\n",
      "Collecting ecdsa (from easy_blockchain)\n",
      "  Downloading https://files.pythonhosted.org/packages/63/f4/73669d51825516ce8c43b816c0a6b64cd6eb71d08b99820c00792cb42222/ecdsa-0.13-py2.py3-none-any.whl (86kB)\n",
      "Requirement already satisfied: chardet<3.1.0,>=3.0.2 in c:\\anaconda2\\envs\\rstudio\\lib\\site-packages (from requests->easy_blockchain)\n",
      "Requirement already satisfied: idna<2.7,>=2.5 in c:\\anaconda2\\envs\\rstudio\\lib\\site-packages (from requests->easy_blockchain)\n",
      "Requirement already satisfied: urllib3<1.23,>=1.21.1 in c:\\anaconda2\\envs\\rstudio\\lib\\site-packages (from requests->easy_blockchain)\n",
      "Requirement already satisfied: certifi>=2017.4.17 in c:\\anaconda2\\envs\\rstudio\\lib\\site-packages (from requests->easy_blockchain)\n",
      "Collecting Werkzeug>=0.14 (from flask->easy_blockchain)\n",
      "  Downloading https://files.pythonhosted.org/packages/20/c4/12e3e56473e52375aa29c4764e70d1b8f3efa6682bef8d0aae04fe335243/Werkzeug-0.14.1-py2.py3-none-any.whl (322kB)\n",
      "Requirement already satisfied: Jinja2>=2.10 in c:\\anaconda2\\envs\\rstudio\\lib\\site-packages (from flask->easy_blockchain)\n",
      "Collecting itsdangerous>=0.24 (from flask->easy_blockchain)\n",
      "  Downloading https://files.pythonhosted.org/packages/76/ae/44b03b253d6fade317f32c24d100b3b35c2239807046a4c953c7b89fa49e/itsdangerous-1.1.0-py2.py3-none-any.whl\n",
      "Collecting click>=5.1 (from flask->easy_blockchain)\n",
      "  Downloading https://files.pythonhosted.org/packages/fa/37/45185cb5abbc30d7257104c434fe0b07e5a195a6847506c074527aa599ec/Click-7.0-py2.py3-none-any.whl (81kB)\n",
      "Requirement already satisfied: MarkupSafe>=0.23 in c:\\anaconda2\\envs\\rstudio\\lib\\site-packages (from Jinja2>=2.10->flask->easy_blockchain)\n",
      "Installing collected packages: Werkzeug, itsdangerous, click, flask, ecdsa, easy-blockchain\n",
      "Successfully installed Werkzeug-0.14.1 click-7.0 easy-blockchain-0.1.6 ecdsa-0.13 flask-1.0.2 itsdangerous-1.1.0\n"
     ]
    },
    {
     "name": "stderr",
     "output_type": "stream",
     "text": [
      "You are using pip version 9.0.3, however version 18.1 is available.\n",
      "You should consider upgrading via the 'python -m pip install --upgrade pip' command.\n"
     ]
    }
   ],
   "source": [
    "!pip install easy_blockchain\n"
   ]
  },
  {
   "cell_type": "markdown",
   "metadata": {},
   "source": [
    "# Create your first wallet and add your first transaction:\n",
    "\n"
   ]
  },
  {
   "cell_type": "code",
   "execution_count": 2,
   "metadata": {},
   "outputs": [
    {
     "name": "stdout",
     "output_type": "stream",
     "text": [
      "Check if a forgery attack have same as real transaction\n",
      "trans01 == trans02 True\n"
     ]
    }
   ],
   "source": [
    "from easy_blockchain.wallet import Wallet\n",
    "from easy_blockchain.blockchain import Block, BlockChain\n",
    "\n",
    "# Create the first user\n",
    "wallet = Wallet()\n",
    "user01 = wallet.getPublicKey()\n",
    "trans01 = wallet.create_transaction('test01', 1, 0.5, 'one message')\n",
    "trans02 = trans01.copy() # create a forgery attack\n",
    "print('Check if a forgery attack have same as real transaction')\n",
    "print('trans01 == trans02', trans01 == trans02)\n",
    "\n",
    "# Create the second user\n",
    "wallet02 = Wallet()\n",
    "user02 = wallet02.getPublicKey()\n",
    "trans03 = wallet02.create_transaction(user01, 1.5, 0.12,'user02 send to user01')"
   ]
  },
  {
   "cell_type": "markdown",
   "metadata": {},
   "source": [
    "# In miner side, the miner receive your transaction, add it to blockchain and mining:\n",
    "\n"
   ]
  },
  {
   "cell_type": "code",
   "execution_count": 4,
   "metadata": {},
   "outputs": [
    {
     "name": "stdout",
     "output_type": "stream",
     "text": [
      "--------------------------------------\n",
      "The block 1 have 2 real transaction:\n",
      "{\n",
      "  \"27b45b09060f8caa08e182e247dbd2da29318f96727441988d52b6ba812b5a95\": {\n",
      "    \"sender\": \"5ny9wEjGcR1DCK5JpD/uhGsnp1JMx39Ujp6J20GC8PFjcORAxvVfdu6Rf6YWcN7Luv3IluVeA2JZbvFbpAmJ/Q==\",\n",
      "    \"receiver\": \"test01\",\n",
      "    \"amount\": 1,\n",
      "    \"message\": \"one message\",\n",
      "    \"signature\": \"IzUP1uJ2Pke8YI+rQw4ihKzXmUEwrXDRMCwGwdbvElYqs8I8QKKMHBDMADTyPcwNtIAqhm5JEn5hNcZQ8rs6Ag==\"\n",
      "  },\n",
      "  \"2c09d50db734475b73d89be4f0d065c66f4eb2097b0037f060afbe6aa5b14de2\": {\n",
      "    \"sender\": \"u0+QdpXjEFfrfAJZ6nLLAtcK+naF3dMpDm6JWb9PmuFGIHmY1Wje0co2sZYLNYSlNnzm/PZt1Eqk58pQdgmv2w==\",\n",
      "    \"receiver\": \"5ny9wEjGcR1DCK5JpD/uhGsnp1JMx39Ujp6J20GC8PFjcORAxvVfdu6Rf6YWcN7Luv3IluVeA2JZbvFbpAmJ/Q==\",\n",
      "    \"amount\": 1.5,\n",
      "    \"message\": \"user02 send to user01\",\n",
      "    \"signature\": \"lRbHkt7lzH5gyA82RlzPpEMSdqChqYi5DB/bsZXLutOh1azRja/pXK6zBzZQUA+BKAsb1xVxH9z0i064/n8BEw==\"\n",
      "  }\n",
      "}\n",
      "The first proof is: 1576844\n"
     ]
    }
   ],
   "source": [
    "import json\n",
    "\n",
    "# add transactions to a block\n",
    "block = Block()\n",
    "block.add_transaction(trans01)\n",
    "block.add_transaction(trans02)  # check adding a forgery attack\n",
    "block.add_transaction(trans03)\n",
    "\n",
    "# check how many transactions were added\n",
    "print('--------------------------------------')\n",
    "print('The block 1 have 2 real transaction:')\n",
    "print(json.dumps(block.transactions, indent=2))\n",
    "# create a blockchain and become an miner\n",
    "coin = BlockChain()\n",
    "# mine a proof\n",
    "proof = coin.mine_proof()\n",
    "print('The first proof is:',proof)\n",
    "# save blockchain to local database\n",
    "coin.save_chain()"
   ]
  },
  {
   "cell_type": "markdown",
   "metadata": {},
   "source": [
    "# The blockchain also provides balance and history of trading:"
   ]
  },
  {
   "cell_type": "code",
   "execution_count": 6,
   "metadata": {},
   "outputs": [
    {
     "name": "stdout",
     "output_type": "stream",
     "text": [
      "--------------------------------------\n",
      "The transaction history and the balance of users:\n",
      "User: user01 balance: 0\n",
      "{}\n",
      "User: user02 balance: 0\n",
      "{}\n"
     ]
    }
   ],
   "source": [
    "print('--------------------------------------')\n",
    "print('The transaction history and the balance of users:')\n",
    "mycoin = coin.get_history(user01)\n",
    "print('User: user01 balance:', coin.get_balance(user01))\n",
    "print(json.dumps(mycoin, indent=4))\n",
    "\n",
    "mycoin = coin.get_history(user02)\n",
    "print('User: user02 balance:', coin.get_balance(user02))\n",
    "print(json.dumps(mycoin, indent=4))\n"
   ]
  },
  {
   "cell_type": "code",
   "execution_count": 7,
   "metadata": {},
   "outputs": [
    {
     "name": "stdout",
     "output_type": "stream",
     "text": [
      "Collecting BlockchainDataBase\n",
      "  Downloading https://files.pythonhosted.org/packages/ad/37/69430b3dc91a8b37273dac955c0d15f96546c71b18872bf39416c4b3c145/BlockchainDataBase-1.1.4-py3-none-any.whl\n",
      "Installing collected packages: BlockchainDataBase\n",
      "Successfully installed BlockchainDataBase-1.1.4\n"
     ]
    },
    {
     "name": "stderr",
     "output_type": "stream",
     "text": [
      "You are using pip version 9.0.3, however version 18.1 is available.\n",
      "You should consider upgrading via the 'python -m pip install --upgrade pip' command.\n"
     ]
    }
   ],
   "source": [
    "! pip install BlockchainDataBase"
   ]
  },
  {
   "cell_type": "code",
   "execution_count": null,
   "metadata": {},
   "outputs": [],
   "source": []
  }
 ],
 "metadata": {
  "kernelspec": {
   "display_name": "Python 3",
   "language": "python",
   "name": "python3"
  },
  "language_info": {
   "codemirror_mode": {
    "name": "ipython",
    "version": 3
   },
   "file_extension": ".py",
   "mimetype": "text/x-python",
   "name": "python",
   "nbconvert_exporter": "python",
   "pygments_lexer": "ipython3",
   "version": "3.6.5"
  }
 },
 "nbformat": 4,
 "nbformat_minor": 2
}
